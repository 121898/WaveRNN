{
 "cells": [
  {
   "cell_type": "markdown",
   "metadata": {},
   "source": [
    "## Alternative Model (Preprocessing)\n",
    "You need to run this before you run notebook 4b.\n",
    "\n",
    "The wavs in your dataset will be converted to 9bit linear and 80-band mels."
   ]
  },
  {
   "cell_type": "code",
   "execution_count": null,
   "metadata": {},
   "outputs": [],
   "source": [
    "cd /home/erogol/Projects/WaveRNN/"
   ]
  },
  {
   "cell_type": "code",
   "execution_count": null,
   "metadata": {},
   "outputs": [],
   "source": [
    "%matplotlib inline\n",
    "%load_ext autoreload\n",
    "%autoreload 2\n",
    "import librosa\n",
    "import matplotlib.pyplot as plt\n",
    "import math, pickle, os, glob\n",
    "import numpy as np\n",
    "from tqdm import tqdm_notebook as tqdm\n",
    "from utils import *\n",
    "from utils.display import *\n",
    "from utils.generic_utils import load_config\n",
    "from utils.audio import AudioProcessor\n",
    "import IPython.display as ipd\n",
    "from multiprocessing import Pool"
   ]
  },
  {
   "cell_type": "code",
   "execution_count": null,
   "metadata": {},
   "outputs": [],
   "source": [
    "bits = 9\n",
    "notebook_name = 'wavernn_ljspeech_ref'\n",
    "config_path = '../TTS/config.json'\n",
    "\n",
    "CONFIG = load_config(config_path)\n",
    "ap = AudioProcessor(CONFIG.sample_rate, CONFIG.num_mels, CONFIG.min_level_db,\n",
    "                    CONFIG.frame_shift_ms, CONFIG.frame_length_ms,\n",
    "                    CONFIG.ref_level_db, CONFIG.num_freq, CONFIG.power, 0,\n",
    "                    griffin_lim_iters=50)   "
   ]
  },
  {
   "cell_type": "code",
   "execution_count": null,
   "metadata": {},
   "outputs": [],
   "source": [
    "# Point SEG_PATH to a folder containing your training wavs \n",
    "# Doesn't matter if it's LJspeech, CMU Arctic etc. it should work fine\n",
    "SEG_PATH = '/home/erogol/Data/LJSpeech-1.1/wavs/' \n",
    "DATA_PATH = f'data/{notebook_name}/'\n",
    "%mkdir -p $DATA_PATH"
   ]
  },
  {
   "cell_type": "code",
   "execution_count": null,
   "metadata": {},
   "outputs": [],
   "source": [
    "def get_files(path, extension='.wav') :\n",
    "    filenames = []\n",
    "    for filename in glob.iglob(f'{path}/**/*{extension}', recursive=True):\n",
    "        filenames += [filename]\n",
    "    return filenames"
   ]
  },
  {
   "cell_type": "code",
   "execution_count": null,
   "metadata": {},
   "outputs": [],
   "source": [
    "wav_files = get_files(SEG_PATH)\n",
    "print(len(wav_files))"
   ]
  },
  {
   "cell_type": "code",
   "execution_count": null,
   "metadata": {},
   "outputs": [],
   "source": [
    "def convert_file(path) :\n",
    "    wav = ap.load_wav(path, encode=False)\n",
    "    mel = ap.melspectrogram(wav)\n",
    "    quant = (wav + 1.) * (2**bits - 1) / 2\n",
    "    quant = quant.clip(0,2**bits-1)\n",
    "    return mel.astype(np.float32), quant.astype(np.int), wav\n",
    "\n",
    "# def convert_file(path) :\n",
    "#     wav = ap.load_wav(path)\n",
    "#     quant = ap.mulaw_encode(wav, 2**bits)\n",
    "#     mel = ap.melspectrogram(wav)\n",
    "#     return mel.astype(np.float32), quant.astype(np.int)"
   ]
  },
  {
   "cell_type": "code",
   "execution_count": null,
   "metadata": {},
   "outputs": [],
   "source": [
    "wav_file = \"/home/erogol/Data/LJSpeech-1.1/wavs/LJ018-0016.wav\"\n",
    "m, x, wav = convert_file(wav_file)"
   ]
  },
  {
   "cell_type": "code",
   "execution_count": null,
   "metadata": {},
   "outputs": [],
   "source": [
    "print(x.max())\n",
    "print(x.min())"
   ]
  },
  {
   "cell_type": "code",
   "execution_count": null,
   "metadata": {},
   "outputs": [],
   "source": [
    "plot_spec(m)"
   ]
  },
  {
   "cell_type": "code",
   "execution_count": null,
   "metadata": {},
   "outputs": [],
   "source": [
    "plot(x)"
   ]
  },
  {
   "cell_type": "code",
   "execution_count": null,
   "metadata": {},
   "outputs": [],
   "source": [
    "x = 2 * x / (2**bits - 1) - 1"
   ]
  },
  {
   "cell_type": "code",
   "execution_count": null,
   "metadata": {
    "scrolled": true
   },
   "outputs": [],
   "source": [
    "# x_decoder = ap.mulaw_decode(x, 2**bits)\n",
    "librosa.output.write_wav(DATA_PATH + 'test_quant.wav', x, sr=CONFIG.sample_rate)\n",
    "ipd.Audio(x, rate=CONFIG.sample_rate)"
   ]
  },
  {
   "cell_type": "code",
   "execution_count": null,
   "metadata": {},
   "outputs": [],
   "source": [
    "ipd.Audio(wav_files[1]) # load a local WAV file"
   ]
  },
  {
   "cell_type": "code",
   "execution_count": null,
   "metadata": {},
   "outputs": [],
   "source": [
    "QUANT_PATH = DATA_PATH + 'quant/'\n",
    "MEL_PATH = DATA_PATH + 'mel/'\n",
    "%mkdir -p $QUANT_PATH\n",
    "%mkdir -p $MEL_PATH"
   ]
  },
  {
   "cell_type": "code",
   "execution_count": null,
   "metadata": {},
   "outputs": [],
   "source": [
    "wav_files[0].split('/')[-1][:-4]"
   ]
  },
  {
   "cell_type": "code",
   "execution_count": null,
   "metadata": {},
   "outputs": [],
   "source": [
    "def process_wav(wav_path):\n",
    "    idx = wav_path.split('/')[-1][:-4]\n",
    "    m, x, wav = convert_file(wav_path)\n",
    "    assert x.max() < 2**bits, wav_path\n",
    "    assert x.min() >= 0\n",
    "    np.save(f'{MEL_PATH}{idx}.npy', m)\n",
    "    np.save(f'{QUANT_PATH}{idx}.npy', x)\n",
    "    return idx"
   ]
  },
  {
   "cell_type": "code",
   "execution_count": null,
   "metadata": {
    "scrolled": true
   },
   "outputs": [],
   "source": [
    "# This will take a while depending on size of dataset\n",
    "with Pool(8) as p:\n",
    "    dataset_ids = list(tqdm(p.imap(process_wav, wav_files), total=len(wav_files)))"
   ]
  },
  {
   "cell_type": "code",
   "execution_count": null,
   "metadata": {},
   "outputs": [],
   "source": [
    "with open(DATA_PATH + 'dataset_ids.pkl', 'wb') as f:\n",
    "    pickle.dump(dataset_ids, f)"
   ]
  }
 ],
 "metadata": {
  "kernelspec": {
   "display_name": "Python 3",
   "language": "python",
   "name": "python3"
  },
  "language_info": {
   "codemirror_mode": {
    "name": "ipython",
    "version": 3
   },
   "file_extension": ".py",
   "mimetype": "text/x-python",
   "name": "python",
   "nbconvert_exporter": "python",
   "pygments_lexer": "ipython3",
   "version": "3.6.5"
  }
 },
 "nbformat": 4,
 "nbformat_minor": 2
}
